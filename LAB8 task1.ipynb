{
 "cells": [
  {
   "cell_type": "code",
   "execution_count": 10,
   "id": "e57df54f-1218-40fb-bc31-264f3f2b3aec",
   "metadata": {},
   "outputs": [
    {
     "ename": "ModuleNotFoundError",
     "evalue": "No module named 'surprise'",
     "output_type": "error",
     "traceback": [
      "\u001b[1;31m---------------------------------------------------------------------------\u001b[0m",
      "\u001b[1;31mModuleNotFoundError\u001b[0m                       Traceback (most recent call last)",
      "Cell \u001b[1;32mIn[10], line 2\u001b[0m\n\u001b[0;32m      1\u001b[0m \u001b[38;5;28;01mimport\u001b[39;00m \u001b[38;5;21;01mpandas\u001b[39;00m \u001b[38;5;28;01mas\u001b[39;00m \u001b[38;5;21;01mpd\u001b[39;00m\n\u001b[1;32m----> 2\u001b[0m \u001b[38;5;28;01mfrom\u001b[39;00m \u001b[38;5;21;01msurprise\u001b[39;00m \u001b[38;5;28;01mimport\u001b[39;00m Dataset, Reader\n\u001b[0;32m      3\u001b[0m \u001b[38;5;28;01mfrom\u001b[39;00m \u001b[38;5;21;01msurprise\u001b[39;00m \u001b[38;5;28;01mimport\u001b[39;00m KNNWithMeans\n\u001b[0;32m      5\u001b[0m \u001b[38;5;66;03m# Define the dataset\u001b[39;00m\n",
      "\u001b[1;31mModuleNotFoundError\u001b[0m: No module named 'surprise'"
     ]
    }
   ],
   "source": [
    "import pandas as pd\n",
    "from surprise import Dataset, Reader\n",
    "from surprise import KNNWithMeans\n",
    "\n",
    "# Define the dataset\n",
    "ratings_dict = {\n",
    "    \"item\": [1, 2, 1, 2, 1, 2, 1, 2, 3, 3, 4, 4],\n",
    "    \"user\": ['A', 'A', 'B', 'B', 'C', 'C', 'D', 'D', 'E', 'F', 'E', 'F'],\n",
    "    \"rating\": [1, 2, 2, 4, 2.5, 4, 4.5, 5, 3, 4, 5, 4.5],\n",
    "}\n",
    "\n",
    "# Create a DataFrame\n",
    "df = pd.DataFrame(ratings_dict)\n",
    "\n",
    "# Define a Reader object and load data into a Surprise dataset\n",
    "reader = Reader(rating_scale=(1, 5))\n",
    "data = Dataset.load_from_df(df[[\"user\", \"item\", \"rating\"]], reader)\n",
    "\n",
    "# Define similarity options for item-based collaborative filtering\n",
    "sim_options = {\n",
    "    \"name\": \"cosine\",\n",
    "    \"user_based\": False,  # Item-based filtering\n",
    "}\n",
    "\n",
    "# Initialize the KNNWithMeans algorithm\n",
    "algo = KNNWithMeans(sim_options=sim_options)\n",
    "\n",
    "# Build a full training set and train the algorithm\n",
    "training_set = data.build_full_trainset()\n",
    "algo.fit(training_set)\n",
    "\n",
    "# Define the recommendation function\n",
    "def recommend_movies(user_id, all_items, algo):\n",
    "    recommendations = []\n",
    "    for item_id in all_items:\n",
    "        # Predict the rating for the user and the item\n",
    "        prediction = algo.predict(user_id, item_id)\n",
    "        recommendations.append((item_id, prediction.est))\n",
    "    # Sort recommendations by predicted rating in descending order\n",
    "    recommendations.sort(key=lambda x: x[1], reverse=True)\n",
    "    return recommendations\n",
    "\n",
    "# Get unique movie IDs (items)\n",
    "all_items = df[\"item\"].unique()\n",
    "\n",
    "# Input: Select a user\n",
    "user_id = input(\"Enter the user ID for recommendations: \")\n",
    "\n",
    "# Get recommendations for the user\n",
    "recommendations = recommend_movies(user_id, all_items, algo)\n",
    "\n",
    "# Print the recommendations\n",
    "print(f\"\\nRecommended movies for user {user_id}:\")\n",
    "for item_id, predicted_rating in recommendations:\n",
    "    print(f\"Movie {item_id}: Predicted Rating {predicted_rating:.2f}\")\n"
   ]
  },
  {
   "cell_type": "code",
   "execution_count": null,
   "id": "d45c5aa0-8aef-43b5-a4e0-c5585abf07e5",
   "metadata": {},
   "outputs": [],
   "source": [
    "!pip install scikit-surprise\n"
   ]
  },
  {
   "cell_type": "code",
   "execution_count": null,
   "id": "fb210631-8bf4-46a9-bf7a-6b6ce11c6001",
   "metadata": {},
   "outputs": [],
   "source": []
  }
 ],
 "metadata": {
  "kernelspec": {
   "display_name": "Python 3 (ipykernel)",
   "language": "python",
   "name": "python3"
  },
  "language_info": {
   "codemirror_mode": {
    "name": "ipython",
    "version": 3
   },
   "file_extension": ".py",
   "mimetype": "text/x-python",
   "name": "python",
   "nbconvert_exporter": "python",
   "pygments_lexer": "ipython3",
   "version": "3.12.3"
  }
 },
 "nbformat": 4,
 "nbformat_minor": 5
}
