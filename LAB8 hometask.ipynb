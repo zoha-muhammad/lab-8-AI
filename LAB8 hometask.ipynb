{
 "cells": [
  {
   "cell_type": "code",
   "execution_count": 1,
   "id": "1c94172c-39d2-4013-8497-6e7ba3175feb",
   "metadata": {},
   "outputs": [
    {
     "name": "stdout",
     "output_type": "stream",
     "text": [
      "Accuracy: 1.0\n",
      "\n",
      "Classification Report:\n",
      "               precision    recall  f1-score   support\n",
      "\n",
      "           0       1.00      1.00      1.00         2\n",
      "           1       1.00      1.00      1.00         1\n",
      "\n",
      "    accuracy                           1.00         3\n",
      "   macro avg       1.00      1.00      1.00         3\n",
      "weighted avg       1.00      1.00      1.00         3\n",
      "\n",
      "\n",
      "Predicted Result for new student: Pass\n"
     ]
    },
    {
     "name": "stderr",
     "output_type": "stream",
     "text": [
      "C:\\anaconda\\Lib\\site-packages\\sklearn\\utils\\validation.py:2739: UserWarning: X does not have valid feature names, but LogisticRegression was fitted with feature names\n",
      "  warnings.warn(\n"
     ]
    }
   ],
   "source": [
    "import pandas as pd\n",
    "from sklearn.model_selection import train_test_split\n",
    "from sklearn.linear_model import LogisticRegression\n",
    "from sklearn.metrics import accuracy_score, classification_report\n",
    "\n",
    "# Define the dataset\n",
    "data = {\n",
    "    \"Study Hours (per week)\": [15, 5, 10, 2, 12, 3, 14, 6, 8, 4],\n",
    "    \"Attendance (%)\": [85, 60, 70, 40, 90, 50, 95, 55, 80, 45],\n",
    "    \"Result\": [\"Pass\", \"Fail\", \"Pass\", \"Fail\", \"Pass\", \"Fail\", \"Pass\", \"Fail\", \"Pass\", \"Fail\"]\n",
    "}\n",
    "\n",
    "# Create a DataFrame\n",
    "df = pd.DataFrame(data)\n",
    "\n",
    "# Convert the target variable (Result) into binary labels: Pass = 1, Fail = 0\n",
    "df[\"Result\"] = df[\"Result\"].map({\"Pass\": 1, \"Fail\": 0})\n",
    "\n",
    "# Define the features (X) and target (y)\n",
    "X = df[[\"Study Hours (per week)\", \"Attendance (%)\"]]\n",
    "y = df[\"Result\"]\n",
    "\n",
    "# Split the data into training and testing sets\n",
    "X_train, X_test, y_train, y_test = train_test_split(X, y, test_size=0.3, random_state=42)\n",
    "\n",
    "# Initialize and train the Logistic Regression model\n",
    "model = LogisticRegression()\n",
    "model.fit(X_train, y_train)\n",
    "\n",
    "# Make predictions on the test set\n",
    "y_pred = model.predict(X_test)\n",
    "\n",
    "# Evaluate the model\n",
    "accuracy = accuracy_score(y_test, y_pred)\n",
    "print(\"Accuracy:\", accuracy)\n",
    "print(\"\\nClassification Report:\\n\", classification_report(y_test, y_pred))\n",
    "\n",
    "# Test the model with a new student\n",
    "new_student = [[10, 75]]  # Example: 10 study hours, 75% attendance\n",
    "result = model.predict(new_student)\n",
    "print(\"\\nPredicted Result for new student:\", \"Pass\" if result[0] == 1 else \"Fail\")\n",
    "\n"
   ]
  },
  {
   "cell_type": "code",
   "execution_count": null,
   "id": "75961da1-863f-42ef-9ff3-6cbf2133cb21",
   "metadata": {},
   "outputs": [],
   "source": []
  }
 ],
 "metadata": {
  "kernelspec": {
   "display_name": "Python 3 (ipykernel)",
   "language": "python",
   "name": "python3"
  },
  "language_info": {
   "codemirror_mode": {
    "name": "ipython",
    "version": 3
   },
   "file_extension": ".py",
   "mimetype": "text/x-python",
   "name": "python",
   "nbconvert_exporter": "python",
   "pygments_lexer": "ipython3",
   "version": "3.12.3"
  }
 },
 "nbformat": 4,
 "nbformat_minor": 5
}
